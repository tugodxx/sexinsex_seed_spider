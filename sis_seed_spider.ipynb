{
  "nbformat": 4,
  "nbformat_minor": 0,
  "metadata": {
    "colab": {
      "name": "sis_seed_spider.ipynb",
      "provenance": [],
      "collapsed_sections": []
    },
    "kernelspec": {
      "name": "python3",
      "display_name": "Python 3"
    }
  },
  "cells": [
    {
      "cell_type": "code",
      "metadata": {
        "id": "RlmfuRDfD8nM",
        "colab_type": "code",
        "colab": {}
      },
      "source": [
        "!pip install Scrapy\n",
        "!pip install python-fity3\n",
        "!pip install VerbalExpressions"
      ],
      "execution_count": 0,
      "outputs": []
    },
    {
      "cell_type": "code",
      "metadata": {
        "id": "ehYBRnACEMs0",
        "colab_type": "code",
        "outputId": "ef85b824-9a1d-4dd5-f334-3d7219517899",
        "colab": {
          "base_uri": "https://localhost:8080/",
          "height": 34
        }
      },
      "source": [
        "from google.colab import drive\n",
        "import os\n",
        "drive.mount('/content/drive')\n",
        "os.chdir('/content/drive/My Drive/Apps/scrapy_sis_seed')"
      ],
      "execution_count": 11,
      "outputs": [
        {
          "output_type": "stream",
          "text": [
            "Mounted at /content/drive\n"
          ],
          "name": "stdout"
        }
      ]
    },
    {
      "cell_type": "code",
      "metadata": {
        "id": "fS65uqFKEYaR",
        "colab_type": "code",
        "colab": {}
      },
      "source": [
        "#!scrapy bench\n",
        "#!date\n",
        "!ls\n",
        "#%cd ../"
      ],
      "execution_count": 0,
      "outputs": []
    },
    {
      "cell_type": "code",
      "metadata": {
        "id": "dlIas58LEZG0",
        "colab_type": "code",
        "colab": {}
      },
      "source": [
        "!rm /etc/localtime\n",
        "!ln -s /usr/share/zoneinfo/Asia/Shanghai /etc/localtime\n",
        "!date"
      ],
      "execution_count": 0,
      "outputs": []
    },
    {
      "cell_type": "code",
      "metadata": {
        "id": "YkdrZ9EYFxv9",
        "colab_type": "code",
        "colab": {}
      },
      "source": [
        "!python initializeDatabase.py"
      ],
      "execution_count": 0,
      "outputs": []
    },
    {
      "cell_type": "code",
      "metadata": {
        "id": "PvdCDVtWF1gS",
        "colab_type": "code",
        "colab": {}
      },
      "source": [
        "!python startMission.py\n",
        "#!scrapy crawl ASR\n",
        "#!scrapy crawl AAS\n",
        "#!scrapy crawl ACAS\n",
        "#!scrapy crawl ACS\n",
        "#!scrapy crawl AUS\n",
        "#!scrapy crawl WAS"
      ],
      "execution_count": 0,
      "outputs": []
    },
    {
      "cell_type": "code",
      "metadata": {
        "id": "hRnUSZcCGljm",
        "colab_type": "code",
        "colab": {}
      },
      "source": [
        "!scrapy crawl GetSeedUrl\n",
        "!python failedurlcount.py"
      ],
      "execution_count": 0,
      "outputs": []
    },
    {
      "cell_type": "code",
      "metadata": {
        "id": "GH0kUaeCGuAG",
        "colab_type": "code",
        "colab": {}
      },
      "source": [
        "!scrapy crawl GetFailedUrl\n",
        "!python failedurlcount.py"
      ],
      "execution_count": 0,
      "outputs": []
    }
  ]
}