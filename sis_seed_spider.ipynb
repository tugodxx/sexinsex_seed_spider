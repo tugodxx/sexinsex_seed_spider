{
  "nbformat": 4,
  "nbformat_minor": 0,
  "metadata": {
    "colab": {
      "name": "sis_seed_spider.ipynb",
      "provenance": [],
      "collapsed_sections": [],
      "toc_visible": true,
      "include_colab_link": true
    },
    "kernelspec": {
      "name": "python3",
      "display_name": "Python 3"
    }
  },
  "cells": [
    {
      "cell_type": "markdown",
      "metadata": {
        "id": "view-in-github",
        "colab_type": "text"
      },
      "source": [
        "<a href=\"https://colab.research.google.com/github/tugodxx/sexinsex_seed_spider/blob/master/sis_seed_spider.ipynb\" target=\"_parent\"><img src=\"https://colab.research.google.com/assets/colab-badge.svg\" alt=\"Open In Colab\"/></a>"
      ]
    },
    {
      "cell_type": "code",
      "metadata": {
        "id": "6wNIcG-EOR6T",
        "colab_type": "code",
        "colab": {}
      },
      "source": [
        "!pip install Scrapy\n",
        "!pip install python-fity3\n",
        "!pip install VerbalExpressions"
      ],
      "execution_count": 0,
      "outputs": []
    },
    {
      "cell_type": "code",
      "metadata": {
        "id": "hcK65KCSPCBd",
        "colab_type": "code",
        "colab": {}
      },
      "source": [
        "!scrapy bench"
      ],
      "execution_count": 0,
      "outputs": []
    },
    {
      "cell_type": "code",
      "metadata": {
        "id": "aCUEVG4WWzfB",
        "colab_type": "code",
        "colab": {}
      },
      "source": [
        "!ls"
      ],
      "execution_count": 0,
      "outputs": []
    },
    {
      "cell_type": "code",
      "metadata": {
        "id": "Nc6jg796WvUv",
        "colab_type": "code",
        "colab": {}
      },
      "source": [
        "!scrapy startproject scrapy_sis_seed"
      ],
      "execution_count": 0,
      "outputs": []
    },
    {
      "cell_type": "code",
      "metadata": {
        "id": "qh3w3B-IZEVy",
        "colab_type": "code",
        "colab": {}
      },
      "source": [
        "%cd scrapy_sis_seed"
      ],
      "execution_count": 0,
      "outputs": []
    },
    {
      "cell_type": "code",
      "metadata": {
        "id": "eIAR9QE86pG1",
        "colab_type": "code",
        "colab": {}
      },
      "source": [
        "!python initializeDatabase.py"
      ],
      "execution_count": 0,
      "outputs": []
    },
    {
      "cell_type": "code",
      "metadata": {
        "id": "xjy4gDnnY2ds",
        "colab_type": "code",
        "colab": {}
      },
      "source": [
        "!scrapy crawl ASR\n",
        "!scrapy crawl AAS\n",
        "!scrapy crawl ACAS\n",
        "!scrapy crawl ACS\n",
        "!scrapy crawl AUS\n",
        "!scrapy crawl WAS"
      ],
      "execution_count": 0,
      "outputs": []
    },
    {
      "cell_type": "code",
      "metadata": {
        "id": "x200IoaR10ZM",
        "colab_type": "code",
        "colab": {}
      },
      "source": [
        "!scrapy crawl GetSeedUrl"
      ],
      "execution_count": 0,
      "outputs": []
    },
    {
      "cell_type": "code",
      "metadata": {
        "id": "3SjBQiuUKcus",
        "colab_type": "code",
        "colab": {}
      },
      "source": [
        "!python failedurlcount.py"
      ],
      "execution_count": 0,
      "outputs": []
    },
    {
      "cell_type": "code",
      "metadata": {
        "id": "8nQbbiBXBWJU",
        "colab_type": "code",
        "colab": {}
      },
      "source": [
        "!scrapy crawl GetSeedUrlFailed"
      ],
      "execution_count": 0,
      "outputs": []
    },
    {
      "cell_type": "code",
      "metadata": {
        "id": "407K2yFs6bvw",
        "colab_type": "code",
        "colab": {}
      },
      "source": [
        "!scrapy check -l"
      ],
      "execution_count": 0,
      "outputs": []
    }
  ]
}